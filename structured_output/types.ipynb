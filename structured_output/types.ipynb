{
 "cells": [
  {
   "cell_type": "code",
   "execution_count": 2,
   "id": "d35c5205",
   "metadata": {},
   "outputs": [
    {
     "data": {
      "text/plain": [
       "RunnableBinding(bound=ChatGoogleGenerativeAI(model='models/gemini-2.0-flash', google_api_key=SecretStr('**********'), client=<google.ai.generativelanguage_v1beta.services.generative_service.client.GenerativeServiceClient object at 0x77618cfec8c0>, default_metadata=(), model_kwargs={}), kwargs={'tools': [{'type': 'function', 'function': {'name': 'Country', 'description': 'Information about a country', 'parameters': {'properties': {'name': {'description': 'name of the country', 'type': 'string'}, 'language': {'description': 'language of the country', 'type': 'string'}, 'capital': {'description': 'Capital of the country', 'type': 'string'}}, 'required': ['name', 'language', 'capital'], 'type': 'object'}}}], 'ls_structured_output_format': {'kwargs': {'method': 'function_calling'}, 'schema': {'type': 'function', 'function': {'name': 'Country', 'description': 'Information about a country', 'parameters': {'properties': {'name': {'description': 'name of the country', 'type': 'string'}, 'language': {'description': 'language of the country', 'type': 'string'}, 'capital': {'description': 'Capital of the country', 'type': 'string'}}, 'required': ['name', 'language', 'capital'], 'type': 'object'}}}}, 'tool_choice': 'Country'}, config={}, config_factories=[])\n",
       "| PydanticToolsParser(first_tool_only=True, tools=[<class '__main__.Country'>])"
      ]
     },
     "execution_count": 2,
     "metadata": {},
     "output_type": "execute_result"
    }
   ],
   "source": [
    "from pydantic import BaseModel, Field\n",
    "from langchain_google_genai import ChatGoogleGenerativeAI\n",
    "\n",
    "llm=ChatGoogleGenerativeAI(model=\"gemini-2.0-flash\")\n",
    "\n",
    "class Country(BaseModel):\n",
    "    \"\"\"Information about a country\"\"\"\n",
    "    name: str=Field(description=\"name of the country\")\n",
    "    language:str=Field(description=\"language of the country\")\n",
    "    capital:str=Field(description=\"Capital of the country\")\n",
    "\n",
    "structured_llm=llm.with_structured_output(Country)\n",
    "structured_llm"
   ]
  },
  {
   "cell_type": "code",
   "execution_count": 2,
   "id": "28fa52ad",
   "metadata": {},
   "outputs": [
    {
     "data": {
      "text/plain": [
       "Country(name='India', language='Hindi', capital='New Delhi')"
      ]
     },
     "execution_count": 2,
     "metadata": {},
     "output_type": "execute_result"
    }
   ],
   "source": [
    "structured_llm.invoke(\"Tell me about India\")"
   ]
  },
  {
   "cell_type": "code",
   "execution_count": 3,
   "id": "50307c29",
   "metadata": {},
   "outputs": [
    {
     "data": {
      "text/plain": [
       "{'punchline': \"because they're purr-fect!\",\n",
       " 'setup': 'Why did the cat join the Red Cross?'}"
      ]
     },
     "execution_count": 3,
     "metadata": {},
     "output_type": "execute_result"
    }
   ],
   "source": [
    "from typing_extensions import Annotated, TypedDict\n",
    "from typing import Optional\n",
    "\n",
    "#Typedict\n",
    "class Joke(TypedDict):\n",
    "    \"\"\"Joke to tell user.\"\"\"\n",
    "    setup: Annotated[str,...,\"The setup of the joke\"]\n",
    "\n",
    "    punchline: Annotated[str,...,\"the punchline of the joke\"]\n",
    "    rating:Annotated[Optional[int],None,\"How funny the joke is , from 1 to 10\"]\n",
    "\n",
    "structured_llm=llm.with_structured_output(Joke)\n",
    "structured_llm.invoke(\"Tell me a joke about cats\")"
   ]
  },
  {
   "cell_type": "code",
   "execution_count": null,
   "id": "a4ddaaed",
   "metadata": {},
   "outputs": [],
   "source": [
    "json_schema={\n",
    "    \"title\":\"joke\",\n",
    "    \"description\":\"Joke to tell user.\",\n",
    "    \"type\":\"object\",\n",
    "    \"properties\":{\n",
    "        \"setup\":{\n",
    "            \"type\":\"string\",\n",
    "            \"description\":\"The setup of the joke\"\n",
    "        },\n",
    "        \"punchline\":{\n",
    "            \"type\":\"string\",\n",
    "            \"description\":\"the punchline of the joke\"\n",
    "        },\n",
    "        \"rating\":{\n",
    "            \"type\":\"integer\",\n",
    "            \"description\":\"How funny the joke is , from 1 to 10\",\n",
    "            \"default\":None\n",
    "        }\n",
    "    },\n",
    "}\n",
    "\n",
    "structured_llm=llm.with_structured_output(json_schema)\n",
    "structured_llm.invoke(\"Tell me a joke about cats\")"
   ]
  }
 ],
 "metadata": {
  "kernelspec": {
   "display_name": "base",
   "language": "python",
   "name": "python3"
  },
  "language_info": {
   "codemirror_mode": {
    "name": "ipython",
    "version": 3
   },
   "file_extension": ".py",
   "mimetype": "text/x-python",
   "name": "python",
   "nbconvert_exporter": "python",
   "pygments_lexer": "ipython3",
   "version": "3.12.7"
  }
 },
 "nbformat": 4,
 "nbformat_minor": 5
}
